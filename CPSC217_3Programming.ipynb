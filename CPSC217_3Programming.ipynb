{
  "nbformat": 4,
  "nbformat_minor": 0,
  "metadata": {
    "colab": {
      "name": "CPSC217_3Programming.ipynb",
      "provenance": [],
      "collapsed_sections": [
        "R7tYgs9YNTUY",
        "_SByI3VGZhp1",
        "jtUz_NH5X-lS",
        "BheAuvOxYDpx",
        "jzGIoV8uaWin"
      ]
    },
    "kernelspec": {
      "name": "python3",
      "display_name": "Python 3"
    }
  },
  "cells": [
    {
      "cell_type": "markdown",
      "metadata": {
        "id": "R7tYgs9YNTUY"
      },
      "source": [
        "# Topic 3: Introduction to Programming: Programming"
      ]
    },
    {
      "cell_type": "markdown",
      "metadata": {
        "id": "f-SuGAuZXupM"
      },
      "source": [
        "## Hello, world! "
      ]
    },
    {
      "cell_type": "code",
      "metadata": {
        "id": "S_LJmFP_Lk-r"
      },
      "source": [
        "print(\"Hello, world!\")"
      ],
      "execution_count": null,
      "outputs": []
    },
    {
      "cell_type": "markdown",
      "metadata": {
        "id": "pRVoUrztNc7Q"
      },
      "source": [
        "\n",
        "# Topic 3: Introduction to Programming: Variables and Expressions"
      ]
    },
    {
      "cell_type": "markdown",
      "metadata": {
        "id": "FHR-4GYpX0vC"
      },
      "source": [
        "## Variables"
      ]
    },
    {
      "cell_type": "markdown",
      "metadata": {
        "id": "dggOZlWANfI3"
      },
      "source": [
        "Format of variable assignment\n",
        "\n",
        "\\<name of variable\\> = \\<data to be stored\\>"
      ]
    },
    {
      "cell_type": "code",
      "metadata": {
        "id": "UQb9sZztM28a"
      },
      "source": [
        "a = 100\n",
        "b = 3.14\n",
        "string = \"Hello, world!\""
      ],
      "execution_count": null,
      "outputs": []
    },
    {
      "cell_type": "markdown",
      "metadata": {
        "id": "-XhTgceONrDI"
      },
      "source": [
        "We can also find a variables 'type' using type(\\<variable\\>)\n",
        "\n",
        "(information of different types is stored differently within the computer)"
      ]
    },
    {
      "cell_type": "code",
      "metadata": {
        "id": "Gm3si7nmM9bQ"
      },
      "source": [
        "print(type(\"Hello, world!\"))"
      ],
      "execution_count": null,
      "outputs": []
    },
    {
      "cell_type": "code",
      "metadata": {
        "id": "Y6W-tYuANB1v"
      },
      "source": [
        "a = 100\n",
        "print(type(a))"
      ],
      "execution_count": null,
      "outputs": []
    },
    {
      "cell_type": "code",
      "metadata": {
        "id": "IjxEMM0CNMyv"
      },
      "source": [
        "b = 3.14\n",
        "print(type(b))"
      ],
      "execution_count": null,
      "outputs": []
    },
    {
      "cell_type": "markdown",
      "metadata": {
        "id": "6qM5l3GZN5Lg"
      },
      "source": [
        "Expressions allow us to combine variables and data"
      ]
    },
    {
      "cell_type": "code",
      "metadata": {
        "id": "qEJI4SxGN-iQ"
      },
      "source": [
        "a = 100\n",
        "b = 3.14\n",
        "string = \"Hello, world!\"\n",
        "\n",
        "print(a)\n",
        "print(type(a))\n",
        "\n",
        "a = a * a\n",
        "\n",
        "print(a)\n",
        "print(type(a))\n",
        "\n",
        "a = a * b\n",
        "\n",
        "print(a)\n",
        "print(type(a))"
      ],
      "execution_count": null,
      "outputs": []
    },
    {
      "cell_type": "markdown",
      "metadata": {
        "id": "cyxzGPIPX5FC"
      },
      "source": [
        "## Naming"
      ]
    },
    {
      "cell_type": "markdown",
      "metadata": {
        "id": "xYx9PRpAOLMj"
      },
      "source": [
        "There are limitations on allowed names\n",
        "The following are all fine"
      ]
    },
    {
      "cell_type": "code",
      "metadata": {
        "id": "RLCpcxEkOM0o"
      },
      "source": [
        "a = 1\n",
        "z = 2\n",
        "A = 3\n",
        "Z = 4\n",
        "_ = 5\n",
        "_variable = 6\n",
        "a2 = 7\n",
        "_1 = 8\n"
      ],
      "execution_count": null,
      "outputs": []
    },
    {
      "cell_type": "markdown",
      "metadata": {
        "id": "EC3iqDxbOgbA"
      },
      "source": [
        "These aren't"
      ]
    },
    {
      "cell_type": "code",
      "metadata": {
        "id": "0aicZbL0Oh-4"
      },
      "source": [
        "1 = 9"
      ],
      "execution_count": null,
      "outputs": []
    },
    {
      "cell_type": "code",
      "metadata": {
        "id": "ZBrbYFmLOjnA"
      },
      "source": [
        "1a = 9"
      ],
      "execution_count": null,
      "outputs": []
    },
    {
      "cell_type": "code",
      "metadata": {
        "id": "FbhriyoiOnqR"
      },
      "source": [
        "42Bars = 9"
      ],
      "execution_count": null,
      "outputs": []
    },
    {
      "cell_type": "code",
      "metadata": {
        "id": "Q8T5D0TKOroI"
      },
      "source": [
        "How Much = 9"
      ],
      "execution_count": null,
      "outputs": []
    },
    {
      "cell_type": "code",
      "metadata": {
        "id": "GgfiGLd8Ot24"
      },
      "source": [
        "Foo-Bar = 9"
      ],
      "execution_count": null,
      "outputs": []
    },
    {
      "cell_type": "code",
      "metadata": {
        "id": "3LqzkQcVOvK4"
      },
      "source": [
        "Var$ = 9"
      ],
      "execution_count": null,
      "outputs": []
    },
    {
      "cell_type": "markdown",
      "metadata": {
        "id": "A3kwBoQBOztK"
      },
      "source": [
        "Certain names are reserved (protected for language usage)"
      ]
    },
    {
      "cell_type": "code",
      "metadata": {
        "id": "iLOricX3O3Gw"
      },
      "source": [
        "from = 3"
      ],
      "execution_count": null,
      "outputs": []
    },
    {
      "cell_type": "markdown",
      "metadata": {
        "id": "n_El0b2GO5pa"
      },
      "source": [
        "But some aren't, str() and print() are functions in python that are special and shouldn't be changed to a variable (but we can)\n",
        "\n",
        "Here we'll use str() to change 1 to a text to print but then we'll break the function and no longer be able to use str() the way we want\n"
      ]
    },
    {
      "cell_type": "code",
      "metadata": {
        "id": "Qd1au1qbO46Z"
      },
      "source": [
        "#INSTRUCTOR Fixing str() if broken elsewhere\n",
        "import builtins\n",
        "str = builtins.str\n",
        "\n",
        "a = str(1)\n",
        "print(a)\n",
        "str = 10\n",
        "a = str(2)\n"
      ],
      "execution_count": null,
      "outputs": []
    },
    {
      "cell_type": "code",
      "metadata": {
        "id": "EnTDOwllb8cy"
      },
      "source": [
        "#INSTRUCTOR Fixing our mistake so rest of notebook works\n",
        "import builtins\n",
        "str = builtins.str"
      ],
      "execution_count": null,
      "outputs": []
    },
    {
      "cell_type": "markdown",
      "metadata": {
        "id": "CPCEm2BlPiGo"
      },
      "source": [
        "Good style for variable naming is camelCase"
      ]
    },
    {
      "cell_type": "code",
      "metadata": {
        "id": "VPZs3l2dPeAI"
      },
      "source": [
        "aVariableToStoreSum = 10"
      ],
      "execution_count": null,
      "outputs": []
    },
    {
      "cell_type": "markdown",
      "metadata": {
        "id": "oGmI8XqTPo0A"
      },
      "source": [
        "Use meaningful names, unclear what this program does?"
      ]
    },
    {
      "cell_type": "code",
      "metadata": {
        "id": "WCOpy2CCPhFB"
      },
      "source": [
        "M = 100\n",
        "G = 0.2\n",
        "P = M*G"
      ],
      "execution_count": null,
      "outputs": []
    },
    {
      "cell_type": "markdown",
      "metadata": {
        "id": "_SByI3VGZhp1"
      },
      "source": [
        "### Much better"
      ]
    },
    {
      "cell_type": "markdown",
      "metadata": {
        "id": "3iaO4XQEQTNN"
      },
      "source": [
        "Could be either of or something completely different"
      ]
    },
    {
      "cell_type": "code",
      "metadata": {
        "id": "0icYgf5uP8oh"
      },
      "source": [
        "miles = 100\n",
        "gasGallons = 0.2\n",
        "usedGas = miles * gasGallons"
      ],
      "execution_count": null,
      "outputs": []
    },
    {
      "cell_type": "code",
      "metadata": {
        "id": "gxlP2XUUQI0Y"
      },
      "source": [
        "mass = 100\n",
        "gravity = 0.2\n",
        "weight = mass * gravity"
      ],
      "execution_count": null,
      "outputs": []
    },
    {
      "cell_type": "markdown",
      "metadata": {
        "id": "jtUz_NH5X-lS"
      },
      "source": [
        "##Constants and Magic Numbers"
      ]
    },
    {
      "cell_type": "markdown",
      "metadata": {
        "id": "q6f6euZVQZBK"
      },
      "source": [
        "Constants are numbers that shouldn't be changed\n",
        "(Unlike some language this isn't enforced in Python)"
      ]
    },
    {
      "cell_type": "code",
      "metadata": {
        "id": "tm6Eg24XQdUR"
      },
      "source": [
        "PI = 3.1415\n",
        "print(PI)\n",
        "# I shouldn't make the change below once PI has been set as other programmers will assume capital letters mean PI is a constant\n",
        "PI = 3.14\n",
        "print(PI)"
      ],
      "execution_count": null,
      "outputs": []
    },
    {
      "cell_type": "markdown",
      "metadata": {
        "id": "1_UxDWGBQvBx"
      },
      "source": [
        "Magic Numbers are when numbers that have meaning detached from them in code\n",
        "Could be a number used more than once, or just a single time\n",
        "Better to use variables with stored number"
      ]
    },
    {
      "cell_type": "code",
      "metadata": {
        "id": "vl7-x9ZJQwtp"
      },
      "source": [
        "afterTax1 = 50000 - (50000 * 0.05)\n",
        "afterTax2 = 70000 - (70000 * 0.05)\n",
        "afterTax3 = 80000 - (80000 * 0.05)\n",
        "unitAmount = 0.05"
      ],
      "execution_count": null,
      "outputs": []
    },
    {
      "cell_type": "code",
      "metadata": {
        "id": "BUuDSSx2RHPQ"
      },
      "source": [
        "SALARY1 = 50000\n",
        "SALARY2 = 70000\n",
        "SALARY3 = 80000\n",
        "TAX_RATE = 0.05\n",
        "afterTax1 = SALARY1 - (SALARY1 * TAX_RATE)\n",
        "afterTax2 = SALARY2 - (SALARY2 * TAX_RATE)\n",
        "afterTax3 = SALARY3 - (SALARY3 * TAX_RATE)\n",
        "unitAmount = 0.05"
      ],
      "execution_count": null,
      "outputs": []
    },
    {
      "cell_type": "markdown",
      "metadata": {
        "id": "BheAuvOxYDpx"
      },
      "source": [
        "## Expressions"
      ]
    },
    {
      "cell_type": "markdown",
      "metadata": {
        "id": "eHkDIb2WRkoy"
      },
      "source": [
        "Expression allow us to combine existing data, variables, functions"
      ]
    },
    {
      "cell_type": "code",
      "metadata": {
        "id": "VHau8lriRqMx"
      },
      "source": [
        "1+1"
      ],
      "execution_count": null,
      "outputs": []
    },
    {
      "cell_type": "code",
      "metadata": {
        "id": "cOjUVYoXRzJZ"
      },
      "source": [
        "len(\"hello\")"
      ],
      "execution_count": null,
      "outputs": []
    },
    {
      "cell_type": "code",
      "metadata": {
        "id": "k7B1sL_FR1Wi"
      },
      "source": [
        "5*3"
      ],
      "execution_count": null,
      "outputs": []
    },
    {
      "cell_type": "code",
      "metadata": {
        "id": "fh0shV3_R2nJ"
      },
      "source": [
        "a = 5\n",
        "a*3.14\n",
        "#What does below print?\n",
        "print(a)"
      ],
      "execution_count": null,
      "outputs": []
    },
    {
      "cell_type": "markdown",
      "metadata": {
        "id": "eYUFZiF7R8tx"
      },
      "source": [
        "Many operators, some that you'll know from math and some other ones"
      ]
    },
    {
      "cell_type": "code",
      "metadata": {
        "id": "jRXVW2ObR8Dh"
      },
      "source": [
        "#Add\n",
        "1 + 2"
      ],
      "execution_count": null,
      "outputs": []
    },
    {
      "cell_type": "code",
      "metadata": {
        "id": "Lj4dbAgTSZKi"
      },
      "source": [
        "#Subtract\n",
        "1 - 2"
      ],
      "execution_count": null,
      "outputs": []
    },
    {
      "cell_type": "code",
      "metadata": {
        "id": "gcU4EoHpSZTw"
      },
      "source": [
        "#Multiply\n",
        "1 * 2"
      ],
      "execution_count": null,
      "outputs": []
    },
    {
      "cell_type": "code",
      "metadata": {
        "id": "nWAe2wrySZbH"
      },
      "source": [
        "#Divide (always decimal result)\n",
        "1 / 2"
      ],
      "execution_count": null,
      "outputs": []
    },
    {
      "cell_type": "code",
      "metadata": {
        "id": "1eSK1c-aSeb2"
      },
      "source": [
        "#Exponent\n",
        "1 ** 2"
      ],
      "execution_count": null,
      "outputs": []
    },
    {
      "cell_type": "code",
      "metadata": {
        "id": "5hl4aQULSeew"
      },
      "source": [
        "#Integer division (throw away decimal part of /)\n",
        "1 // 2"
      ],
      "execution_count": null,
      "outputs": []
    },
    {
      "cell_type": "code",
      "metadata": {
        "id": "wTDs_6tgSiI5"
      },
      "source": [
        "#Remainder division (keep remainder if / (decimal part))\n",
        "1 % 2"
      ],
      "execution_count": null,
      "outputs": []
    },
    {
      "cell_type": "markdown",
      "metadata": {
        "id": "1rNxOwnxYHCJ"
      },
      "source": [
        "## Precendence"
      ]
    },
    {
      "cell_type": "markdown",
      "metadata": {
        "id": "F9_xsFF6Sp9K"
      },
      "source": [
        "Code has order in which it executes operators if brackets aren't given (this is known as precendence)\n",
        "Like math the expression is collapsed on one operator at a time"
      ]
    },
    {
      "cell_type": "code",
      "metadata": {
        "id": "JiAcdY59SyT5"
      },
      "source": [
        "16 - 2 * 5 // 3 + 1"
      ],
      "execution_count": null,
      "outputs": []
    },
    {
      "cell_type": "code",
      "metadata": {
        "id": "9TZKafV8S89J"
      },
      "source": [
        "16 - (((2 * 5) // 3) + 1)"
      ],
      "execution_count": null,
      "outputs": []
    },
    {
      "cell_type": "code",
      "metadata": {
        "id": "cr-BQyhsS01R"
      },
      "source": [
        "(16 - ((2 * 5) // 3)) + 1"
      ],
      "execution_count": null,
      "outputs": []
    },
    {
      "cell_type": "markdown",
      "metadata": {
        "id": "Bq4VyG7HTMgK"
      },
      "source": [
        "Summary\n",
        "\n",
        "We have variables that we can assign into like PI, radius, varType, area. We like meaningful naming, constants, and no magic numbers.\n",
        "\n",
        "We can assign different types of data into variables.\n",
        "\n",
        "We can make expressions that follow precedence when evaluating.\n",
        "\n",
        "We can print the data we have out to be seen.\n"
      ]
    },
    {
      "cell_type": "code",
      "metadata": {
        "id": "ml4uSfvUTOy7"
      },
      "source": [
        "PI = 3.14\n",
        "radius = 3\n",
        "varType = type(PI)\n",
        "area = PI * radius ** 2\n",
        "print(area)"
      ],
      "execution_count": null,
      "outputs": []
    },
    {
      "cell_type": "markdown",
      "metadata": {
        "id": "ko4wDJCHUHqc"
      },
      "source": [
        "\n",
        "# Topic 3: Introduction to Programming: Writing a Program"
      ]
    },
    {
      "cell_type": "markdown",
      "metadata": {
        "id": "Ww-sig_9YPw3"
      },
      "source": [
        "##Input"
      ]
    },
    {
      "cell_type": "markdown",
      "metadata": {
        "id": "EMwpjabdUTfR"
      },
      "source": [
        "We can get input from a user using input()"
      ]
    },
    {
      "cell_type": "code",
      "metadata": {
        "id": "1NUE8l-qUYVB"
      },
      "source": [
        "sName = input(\"Please enter your name:\")\n",
        "print(\"Hi\", sName)"
      ],
      "execution_count": null,
      "outputs": []
    },
    {
      "cell_type": "markdown",
      "metadata": {
        "id": "eWPsvdsVUj8S"
      },
      "source": [
        "You should always use meaningful messages"
      ]
    },
    {
      "cell_type": "markdown",
      "metadata": {
        "id": "wi6h6ZEeGwSV"
      },
      "source": [
        ""
      ]
    },
    {
      "cell_type": "code",
      "metadata": {
        "id": "eeift5X7UnZs"
      },
      "source": [
        "sFahrenheit = input(\"degree\")\n",
        "print(\"The temperature is\",sFahrenheit,\"in celsius\")"
      ],
      "execution_count": null,
      "outputs": []
    },
    {
      "cell_type": "markdown",
      "metadata": {
        "id": "JrDS7aebYSKP"
      },
      "source": [
        "##Errors"
      ]
    },
    {
      "cell_type": "markdown",
      "metadata": {
        "id": "JKiP1nOdVZ_E"
      },
      "source": [
        "Syntax Errors"
      ]
    },
    {
      "cell_type": "code",
      "metadata": {
        "id": "CUcMyZfVVHly"
      },
      "source": [
        "name = \"Jim"
      ],
      "execution_count": null,
      "outputs": []
    },
    {
      "cell_type": "markdown",
      "metadata": {
        "id": "aaDY4uaoVarE"
      },
      "source": [
        "Runtime errors"
      ]
    },
    {
      "cell_type": "code",
      "metadata": {
        "id": "iGZx8pc_VKky"
      },
      "source": [
        "callMe = \"Maybe\"\n",
        "print(callme)"
      ],
      "execution_count": null,
      "outputs": []
    },
    {
      "cell_type": "markdown",
      "metadata": {
        "id": "1nAPV2qeVgUC"
      },
      "source": [
        "Semantic (Logic Errors)"
      ]
    },
    {
      "cell_type": "code",
      "metadata": {
        "id": "qesFf9LYVOeF"
      },
      "source": [
        "x = 3\n",
        "y = 4\n",
        "average = x + y / 2\n",
        "print(average)"
      ],
      "execution_count": null,
      "outputs": []
    },
    {
      "cell_type": "markdown",
      "metadata": {
        "id": "FXlhlcJJYZi_"
      },
      "source": [
        "## Explore First Program"
      ]
    },
    {
      "cell_type": "markdown",
      "metadata": {
        "id": "jNlmqu44VW-1"
      },
      "source": [
        "What does this program do?"
      ]
    },
    {
      "cell_type": "code",
      "metadata": {
        "id": "xYFwbjOhVVEk"
      },
      "source": [
        "x = float(input())\n",
        "y = (x - 32) * 5/9\n",
        "print(y)"
      ],
      "execution_count": null,
      "outputs": []
    },
    {
      "cell_type": "markdown",
      "metadata": {
        "id": "3entKjnCWEb0"
      },
      "source": [
        "### Much better"
      ]
    },
    {
      "cell_type": "code",
      "metadata": {
        "id": "lFZBYVyyWFiC"
      },
      "source": [
        "#Jonathan Hudson\n",
        "#Student Number 12347890\n",
        "#Date: 2020-08-26\n",
        "#Lecture Practice\n",
        "\n",
        "#Calculating Fahrenheit to Celsius\n",
        "OFFSET = 32\n",
        "RATIO_CHANGE = 5/9\n",
        "\n",
        "#Obtaining Fahrenheit degree\n",
        "sFahrenheit  = input(\"Please enter the degree in Fahrenheit : \")\n",
        "\n",
        "#Converting the input to float\n",
        "fFahrenheit  = float(sFahrenheit)\n",
        "\n",
        "#Calculating the Celsius\n",
        "fCelsius = (fFahrenheit - OFFSET) * RATIO_CHANGE\n",
        "\n",
        "#Printing the result\n",
        "print (\"The degree in Celsius is: \", fCelsius) \n"
      ],
      "execution_count": null,
      "outputs": []
    },
    {
      "cell_type": "markdown",
      "metadata": {
        "id": "ZlrnGJ1AYfFf"
      },
      "source": [
        "## Importing"
      ]
    },
    {
      "cell_type": "markdown",
      "metadata": {
        "id": "lxkYx16zYgkY"
      },
      "source": [
        "What if we want to use something stored outside of current file"
      ]
    },
    {
      "cell_type": "code",
      "metadata": {
        "id": "y3-RHtYsYmkf"
      },
      "source": [
        "import math\n",
        "print(math.pi)\n",
        "print(math.cos(2*math.pi))"
      ],
      "execution_count": null,
      "outputs": []
    },
    {
      "cell_type": "code",
      "metadata": {
        "id": "kjIO2a3sYtx1"
      },
      "source": [
        "from math import *\n",
        "print(pi)\n",
        "print(cos(2*pi))"
      ],
      "execution_count": null,
      "outputs": []
    },
    {
      "cell_type": "markdown",
      "metadata": {
        "id": "jdZOC3SwZMp6"
      },
      "source": [
        "Area of a circle - What do we need to do?"
      ]
    },
    {
      "cell_type": "code",
      "metadata": {
        "id": "I4rWlMXJaSLf"
      },
      "source": [
        "# import math library\n",
        "import math\n",
        "\n",
        "# get radius from the user\n",
        "sRadius = input(\"Enter the radius of your circle (float):\")\n",
        "\n",
        "# change type of radius from string to float\n",
        "fRadius = float(sRadius)\n",
        "\n",
        "# do the calculation area = pi * r ^ 2\n",
        "fArea = math.pi * fRadius ** 2\n",
        "\n",
        "# output print \n",
        "print(\"The area of the circle is\", fArea)"
      ],
      "execution_count": null,
      "outputs": []
    },
    {
      "cell_type": "markdown",
      "metadata": {
        "id": "jzGIoV8uaWin"
      },
      "source": [
        "### Framework"
      ]
    },
    {
      "cell_type": "code",
      "metadata": {
        "id": "cUu3xRiDZ2Of"
      },
      "source": [
        "#Info about program\n",
        "\n",
        "#Setup imports\n",
        "#Setup constants\n",
        "#Get input\n",
        "#Do expression\n",
        "#Print output"
      ],
      "execution_count": null,
      "outputs": []
    },
    {
      "cell_type": "markdown",
      "metadata": {
        "id": "TaVaMfyHaJAP"
      },
      "source": [
        "### Much better"
      ]
    },
    {
      "cell_type": "code",
      "metadata": {
        "id": "qQ0ntjFsYtw_"
      },
      "source": [
        "#Jonathan Hudson\n",
        "#Student Number 12347890\n",
        "#Date: 2020-08-26\n",
        "#Lecture Practice\n",
        "\n",
        "#Calculating the area of a circle\n",
        "\n",
        "#Importing math\n",
        "import math\n",
        "\n",
        "#Getting radius from the user\n",
        "sRadius = input(\"Please enter the radius of a circle: \")\n",
        "\n",
        "#Casting to type integer\n",
        "iRadius = int(sRadius)\n",
        "\n",
        "#Calculating the area of the circle\n",
        "fArea = math.pi * (iRadius**2)\n",
        "#fArea = math.pi * math.pow(iRadius, 2)\n",
        "\n",
        "#Printing the result\n",
        "print (\"The circle's area is: \", fArea) \n",
        "\n"
      ],
      "execution_count": null,
      "outputs": []
    },
    {
      "cell_type": "markdown",
      "metadata": {
        "id": "LPqpQkfmarPA"
      },
      "source": [
        "## Data types"
      ]
    },
    {
      "cell_type": "markdown",
      "metadata": {
        "id": "yt0p_v4las_3"
      },
      "source": [
        "Some operations are defined "
      ]
    },
    {
      "cell_type": "code",
      "metadata": {
        "id": "vnsif-KqawmY"
      },
      "source": [
        "1 + 2\n",
        "\"Hello” + “ World\"\n",
        "1 / 3\n",
        "2.0 / 4\n",
        "\"Hello\"*3"
      ],
      "execution_count": null,
      "outputs": []
    },
    {
      "cell_type": "markdown",
      "metadata": {
        "id": "AlHRVQELa-cH"
      },
      "source": [
        "Some aren't"
      ]
    },
    {
      "cell_type": "code",
      "metadata": {
        "id": "8qToVQdna3Tn"
      },
      "source": [
        "1 + \"Hello\""
      ],
      "execution_count": null,
      "outputs": []
    },
    {
      "cell_type": "code",
      "metadata": {
        "id": "9AfkXKt3a7nM"
      },
      "source": [
        "2 + \"4\""
      ],
      "execution_count": null,
      "outputs": []
    },
    {
      "cell_type": "code",
      "metadata": {
        "id": "ymzoFEYNOSNB"
      },
      "source": [
        ""
      ],
      "execution_count": null,
      "outputs": []
    },
    {
      "cell_type": "markdown",
      "metadata": {
        "id": "glkuaUoDbA-2"
      },
      "source": [
        "We can change types back and forth (if formatting change is supported)"
      ]
    },
    {
      "cell_type": "code",
      "metadata": {
        "id": "7OAYnSR2bGdR"
      },
      "source": [
        "int(\"1\") \n",
        "str(1)\n",
        "float(\"1.0\") \n",
        "bool(\"True\")"
      ],
      "execution_count": null,
      "outputs": []
    },
    {
      "cell_type": "markdown",
      "metadata": {
        "id": "P4eYyU_ucElp"
      },
      "source": [
        "Some won't work"
      ]
    },
    {
      "cell_type": "code",
      "metadata": {
        "id": "kb5Uul1DcEQQ"
      },
      "source": [
        "int(\"hello\")"
      ],
      "execution_count": null,
      "outputs": []
    },
    {
      "cell_type": "markdown",
      "metadata": {
        "id": "xgUJSAGdcIB5"
      },
      "source": [
        "## Formatting"
      ]
    },
    {
      "cell_type": "markdown",
      "metadata": {
        "id": "q5e_7p65cnqw"
      },
      "source": [
        "We can format things into strings (generally done for output)\n",
        "\n",
        "%s means string placeholder\n",
        "\n",
        "%.2f is floating point with 2 decimal places\n",
        "\n",
        "%d is an integer number"
      ]
    },
    {
      "cell_type": "code",
      "metadata": {
        "id": "Pmf2a1L8cJUA"
      },
      "source": [
        "import math\n",
        "print(\"pi is %.2f when rounded to 2 decimal places\" % (math.pi))"
      ],
      "execution_count": null,
      "outputs": []
    },
    {
      "cell_type": "code",
      "metadata": {
        "id": "rBlQ9zrHcUV4"
      },
      "source": [
        "import math\n",
        "print(\"pi is %.2f when rounded to 2 decimal places\" % (math.pi))\n",
        "radius = 3\n",
        "area = math.pi * radius ** 2\n",
        "print(\"when radius is %d the area of a circle is %.2f\" % (radius, area))"
      ],
      "execution_count": null,
      "outputs": []
    },
    {
      "cell_type": "markdown",
      "metadata": {
        "id": "DpNbTVNYkI7i"
      },
      "source": [
        "## Turtle"
      ]
    },
    {
      "cell_type": "markdown",
      "metadata": {
        "id": "KoK4XerckK2J"
      },
      "source": [
        "### This version won't work in Python Notebook (Desktop only)"
      ]
    },
    {
      "cell_type": "code",
      "metadata": {
        "id": "0gJ-rwxckKKI"
      },
      "source": [
        "#Jonathan Hudson\n",
        "#Student Number 12347890\n",
        "#Date: 2020-08-26\n",
        "#Lecture Practice\n",
        "\n",
        "#Importing\n",
        "import turtle \n",
        "\n",
        "#Creating Alex the turtle <- (better name could be pointer)\n",
        "alex = turtle.Turtle()\n",
        "\n",
        "### #Make Alex look like turtle\n",
        "alex.shape(\"turtle\")\n",
        "\n",
        "#Alex is red\n",
        "alex.color(\"red\")\n",
        "\n",
        "#Make Alex's trail bigger\n",
        "alex.pensize(7)\n",
        "\n",
        "#Moving and turning alex\n",
        "alex.forward(50)\n",
        "alex.left(45)\n",
        "alex.forward(50)\n",
        "alex.penup()\n",
        "alex.left(45)\n",
        "alex.forward(50)\n",
        "alex.left(45)\n",
        "alex.pendown()\n",
        "alex.forward(50)\n",
        "alex.left(45)\n",
        "alex.forward(50)\n",
        "\n",
        "#Where the turtle lives\n",
        "window = turtle.Screen()\n",
        "#Exit on click so the result can be seen\n",
        "window.exitonclick()  \n",
        "\n"
      ],
      "execution_count": null,
      "outputs": []
    },
    {
      "cell_type": "markdown",
      "metadata": {
        "id": "c0RD7jw3kVK4"
      },
      "source": [
        "### This version will"
      ]
    },
    {
      "cell_type": "code",
      "metadata": {
        "id": "jgpRx4Csde_I"
      },
      "source": [
        "!pip install ColabTurtle\n"
      ],
      "execution_count": null,
      "outputs": []
    },
    {
      "cell_type": "code",
      "metadata": {
        "id": "0p_rIry2dPr4"
      },
      "source": [
        "#Jonathan Hudson\n",
        "#Student Number 12347890\n",
        "#Date: 2020-08-26\n",
        "#Lecture Practice\n",
        "\n",
        "#Importing \n",
        "from ColabTurtle import Turtle as turtle\n",
        "turtle.initializeTurtle()\n",
        "turtle.bgcolor(\"white\")\n",
        "turtle.right(90)\n",
        "\n",
        "#Creating Alex the turtle <- (better name could be pointer)\n",
        "alex = turtle\n",
        "\n",
        "#Alex is red\n",
        "alex.color(\"red\")\n",
        "\n",
        "#Make Alex's trail bigger\n",
        "alex.width(7)\n",
        "\n",
        "#Moving and turning alex\n",
        "alex.forward(50)\n",
        "alex.left(45)\n",
        "alex.forward(50)\n",
        "alex.penup()\n",
        "alex.left(45)\n",
        "alex.forward(50)\n",
        "alex.left(45)\n",
        "alex.pendown()\n",
        "alex.forward(50)\n",
        "alex.left(45)\n",
        "alex.forward(50)\n"
      ],
      "execution_count": null,
      "outputs": []
    }
  ]
}